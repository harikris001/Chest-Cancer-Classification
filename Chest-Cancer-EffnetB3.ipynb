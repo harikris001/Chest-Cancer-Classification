{
 "cells": [
  {
   "cell_type": "code",
   "execution_count": 1,
   "id": "88eb11e3",
   "metadata": {},
   "outputs": [
    {
     "name": "stderr",
     "output_type": "stream",
     "text": [
      "D:\\Python Projects For Github\\Chest-Cancer detector\\cancer\\lib\\site-packages\\tqdm\\auto.py:21: TqdmWarning: IProgress not found. Please update jupyter and ipywidgets. See https://ipywidgets.readthedocs.io/en/stable/user_install.html\n",
      "  from .autonotebook import tqdm as notebook_tqdm\n"
     ]
    }
   ],
   "source": [
    "import torch\n",
    "import os\n",
    "import random\n",
    "from PIL import Image\n",
    "from matplotlib import pyplot as plt\n",
    "import seaborn as sns\n",
    "from tqdm.auto import tqdm\n",
    "\n",
    "torch.manual_seed(42)\n",
    "\n",
    "import numpy as np\n",
    "from torch import nn\n",
    "from torch.utils.data import DataLoader\n",
    "from torchvision.models import EfficientNet_B3_Weights,efficientnet_b3\n",
    "from torchvision import transforms\n",
    "import torchvision\n",
    "from torchvision.datasets import ImageFolder\n",
    "from torchinfo import summary"
   ]
  },
  {
   "cell_type": "code",
   "execution_count": 2,
   "id": "dfbd254e",
   "metadata": {},
   "outputs": [
    {
     "data": {
      "text/plain": [
       "'2.0.1+cu117'"
      ]
     },
     "execution_count": 2,
     "metadata": {},
     "output_type": "execute_result"
    }
   ],
   "source": [
    "torch.__version__"
   ]
  },
  {
   "cell_type": "code",
   "execution_count": 3,
   "id": "1eb5a82a",
   "metadata": {},
   "outputs": [
    {
     "data": {
      "text/plain": [
       "'cuda'"
      ]
     },
     "execution_count": 3,
     "metadata": {},
     "output_type": "execute_result"
    }
   ],
   "source": [
    "device = \"cuda\" if torch.cuda.is_available() else \"cpu\"\n",
    "device"
   ]
  },
  {
   "cell_type": "code",
   "execution_count": 4,
   "id": "44b8324f",
   "metadata": {},
   "outputs": [],
   "source": [
    "TRAIN_DIR = './Data/train'\n",
    "VAL_DIR = './Data/valid'\n",
    "TEST_DIR = './Data/test'"
   ]
  },
  {
   "cell_type": "code",
   "execution_count": 5,
   "id": "c431b02f",
   "metadata": {},
   "outputs": [],
   "source": [
    "labels = os.listdir(TRAIN_DIR)"
   ]
  },
  {
   "cell_type": "code",
   "execution_count": 6,
   "id": "1adb45d1",
   "metadata": {},
   "outputs": [],
   "source": [
    "data_transform = transforms.Compose([\n",
    "    transforms.RandomHorizontalFlip(p=0.5),\n",
    "    transforms.Resize(size=(300,300)),\n",
    "    transforms.RandomAutocontrast(p=0.6),\n",
    "    transforms.ToTensor(),\n",
    "    transforms.Normalize((0.485, 0.456, 0.406), (0.229, 0.224, 0.225))\n",
    "    \n",
    "])"
   ]
  },
  {
   "cell_type": "code",
   "execution_count": 7,
   "id": "b995244e",
   "metadata": {},
   "outputs": [],
   "source": [
    "train_data = ImageFolder(root=TRAIN_DIR,\n",
    "                                  transform=data_transform)\n",
    "\n",
    "test_data = ImageFolder(root=TEST_DIR,\n",
    "                              transform=data_transform)\n",
    "val_data = ImageFolder(root=VAL_DIR,\n",
    "                              transform=data_transform)"
   ]
  },
  {
   "cell_type": "code",
   "execution_count": 8,
   "id": "126e24d0",
   "metadata": {},
   "outputs": [],
   "source": [
    "train_loader = DataLoader(train_data,shuffle=True,batch_size=50)\n",
    "test_loader = DataLoader(test_data,shuffle=False,batch_size=8)\n",
    "valid_loader = DataLoader(val_data,shuffle=False,batch_size=1)"
   ]
  },
  {
   "cell_type": "code",
   "execution_count": 9,
   "id": "fa905404",
   "metadata": {},
   "outputs": [],
   "source": [
    "weights = EfficientNet_B3_Weights.IMAGENET1K_V1"
   ]
  },
  {
   "cell_type": "code",
   "execution_count": 10,
   "id": "44703efe",
   "metadata": {},
   "outputs": [],
   "source": [
    "effnet3 = efficientnet_b3(weights=weights)"
   ]
  },
  {
   "cell_type": "code",
   "execution_count": 11,
   "id": "f1c38e58",
   "metadata": {},
   "outputs": [],
   "source": [
    "for param in effnet3.parameters():\n",
    "    param.requires_grad = False"
   ]
  },
  {
   "cell_type": "code",
   "execution_count": 12,
   "id": "093e168a",
   "metadata": {},
   "outputs": [],
   "source": [
    "effnet3.classifier[1] = nn.Sequential(\n",
    "    nn.BatchNorm1d(num_features=1536),    \n",
    "    nn.Linear(1536, 512),\n",
    "    nn.ReLU(),\n",
    "    nn.BatchNorm1d(num_features=512),\n",
    "    nn.Linear(512,128),\n",
    "    nn.ReLU(),\n",
    "    nn.BatchNorm1d(num_features=128),\n",
    "    nn.Dropout(0.4),\n",
    "    nn.Linear(128, 4),\n",
    "    )"
   ]
  },
  {
   "cell_type": "code",
   "execution_count": 13,
   "id": "5fe46d13",
   "metadata": {},
   "outputs": [
    {
     "data": {
      "text/plain": [
       "=========================================================================================================\n",
       "Layer (type:depth-idx)                                  Output Shape              Param #\n",
       "=========================================================================================================\n",
       "EfficientNet                                            [50, 4]                   --\n",
       "├─Sequential: 1-1                                       [50, 1536, 10, 10]        --\n",
       "│    └─Conv2dNormActivation: 2-1                        [50, 40, 150, 150]        --\n",
       "│    │    └─Conv2d: 3-1                                 [50, 40, 150, 150]        (1,080)\n",
       "│    │    └─BatchNorm2d: 3-2                            [50, 40, 150, 150]        (80)\n",
       "│    │    └─SiLU: 3-3                                   [50, 40, 150, 150]        --\n",
       "│    └─Sequential: 2-2                                  [50, 24, 150, 150]        --\n",
       "│    │    └─MBConv: 3-4                                 [50, 24, 150, 150]        (2,298)\n",
       "│    │    └─MBConv: 3-5                                 [50, 24, 150, 150]        (1,206)\n",
       "│    └─Sequential: 2-3                                  [50, 32, 75, 75]          --\n",
       "│    │    └─MBConv: 3-6                                 [50, 32, 75, 75]          (11,878)\n",
       "│    │    └─MBConv: 3-7                                 [50, 32, 75, 75]          (18,120)\n",
       "│    │    └─MBConv: 3-8                                 [50, 32, 75, 75]          (18,120)\n",
       "│    └─Sequential: 2-4                                  [50, 48, 38, 38]          --\n",
       "│    │    └─MBConv: 3-9                                 [50, 48, 38, 38]          (24,296)\n",
       "│    │    └─MBConv: 3-10                                [50, 48, 38, 38]          (43,308)\n",
       "│    │    └─MBConv: 3-11                                [50, 48, 38, 38]          (43,308)\n",
       "│    └─Sequential: 2-5                                  [50, 96, 19, 19]          --\n",
       "│    │    └─MBConv: 3-12                                [50, 96, 19, 19]          (52,620)\n",
       "│    │    └─MBConv: 3-13                                [50, 96, 19, 19]          (146,520)\n",
       "│    │    └─MBConv: 3-14                                [50, 96, 19, 19]          (146,520)\n",
       "│    │    └─MBConv: 3-15                                [50, 96, 19, 19]          (146,520)\n",
       "│    │    └─MBConv: 3-16                                [50, 96, 19, 19]          (146,520)\n",
       "│    └─Sequential: 2-6                                  [50, 136, 19, 19]         --\n",
       "│    │    └─MBConv: 3-17                                [50, 136, 19, 19]         (178,856)\n",
       "│    │    └─MBConv: 3-18                                [50, 136, 19, 19]         (302,226)\n",
       "│    │    └─MBConv: 3-19                                [50, 136, 19, 19]         (302,226)\n",
       "│    │    └─MBConv: 3-20                                [50, 136, 19, 19]         (302,226)\n",
       "│    │    └─MBConv: 3-21                                [50, 136, 19, 19]         (302,226)\n",
       "│    └─Sequential: 2-7                                  [50, 232, 10, 10]         --\n",
       "│    │    └─MBConv: 3-22                                [50, 232, 10, 10]         (380,754)\n",
       "│    │    └─MBConv: 3-23                                [50, 232, 10, 10]         (849,642)\n",
       "│    │    └─MBConv: 3-24                                [50, 232, 10, 10]         (849,642)\n",
       "│    │    └─MBConv: 3-25                                [50, 232, 10, 10]         (849,642)\n",
       "│    │    └─MBConv: 3-26                                [50, 232, 10, 10]         (849,642)\n",
       "│    │    └─MBConv: 3-27                                [50, 232, 10, 10]         (849,642)\n",
       "│    └─Sequential: 2-8                                  [50, 384, 10, 10]         --\n",
       "│    │    └─MBConv: 3-28                                [50, 384, 10, 10]         (1,039,258)\n",
       "│    │    └─MBConv: 3-29                                [50, 384, 10, 10]         (2,244,960)\n",
       "│    └─Conv2dNormActivation: 2-9                        [50, 1536, 10, 10]        --\n",
       "│    │    └─Conv2d: 3-30                                [50, 1536, 10, 10]        (589,824)\n",
       "│    │    └─BatchNorm2d: 3-31                           [50, 1536, 10, 10]        (3,072)\n",
       "│    │    └─SiLU: 3-32                                  [50, 1536, 10, 10]        --\n",
       "├─AdaptiveAvgPool2d: 1-2                                [50, 1536, 1, 1]          --\n",
       "├─Sequential: 1-3                                       [50, 4]                   --\n",
       "│    └─Dropout: 2-10                                    [50, 1536]                --\n",
       "│    └─Sequential: 2-11                                 [50, 4]                   --\n",
       "│    │    └─BatchNorm1d: 3-33                           [50, 1536]                3,072\n",
       "│    │    └─Linear: 3-34                                [50, 512]                 786,944\n",
       "│    │    └─ReLU: 3-35                                  [50, 512]                 --\n",
       "│    │    └─BatchNorm1d: 3-36                           [50, 512]                 1,024\n",
       "│    │    └─Linear: 3-37                                [50, 128]                 65,664\n",
       "│    │    └─ReLU: 3-38                                  [50, 128]                 --\n",
       "│    │    └─BatchNorm1d: 3-39                           [50, 128]                 256\n",
       "│    │    └─Dropout: 3-40                               [50, 128]                 --\n",
       "│    │    └─Linear: 3-41                                [50, 4]                   516\n",
       "=========================================================================================================\n",
       "Total params: 11,553,708\n",
       "Trainable params: 857,476\n",
       "Non-trainable params: 10,696,232\n",
       "Total mult-adds (G): 91.33\n",
       "=========================================================================================================\n",
       "Input size (MB): 54.00\n",
       "Forward/backward pass size (MB): 19057.33\n",
       "Params size (MB): 46.21\n",
       "Estimated Total Size (MB): 19157.55\n",
       "========================================================================================================="
      ]
     },
     "execution_count": 13,
     "metadata": {},
     "output_type": "execute_result"
    }
   ],
   "source": [
    "summary(effnet3,input_size = [50, 3, 300, 300])"
   ]
  },
  {
   "cell_type": "code",
   "execution_count": 14,
   "id": "32e69c15",
   "metadata": {},
   "outputs": [],
   "source": [
    "effnet3.to(device)\n",
    "# loss function\n",
    "loss_fn = nn.CrossEntropyLoss()\n",
    "# Optimizer for weight adjustment\n",
    "optimizer = torch.optim.Adam(effnet3.parameters(), lr = 0.001)"
   ]
  },
  {
   "cell_type": "code",
   "execution_count": 15,
   "id": "7dbe77b7",
   "metadata": {},
   "outputs": [],
   "source": [
    "def train_step(model: torch.nn.Module, \n",
    "               dataloader: torch.utils.data.DataLoader, \n",
    "               loss_fn: torch.nn.Module, \n",
    "               optimizer: torch.optim.Optimizer):\n",
    "    # Put model in train mode\n",
    "    model.train()\n",
    "    \n",
    "    # Setup train loss and train accuracy values\n",
    "    train_loss, train_acc = 0, 0\n",
    "    \n",
    "    # Loop through data loader data batches\n",
    "    for batch, (X, y) in enumerate(dataloader):\n",
    "        # Send data to target device\n",
    "        X, y = X.to(device), y.to(device)\n",
    "\n",
    "        # Forward pass\n",
    "        y_pred = model(X)\n",
    "\n",
    "        # Calculate and accumulate loss\n",
    "        loss = loss_fn(y_pred, y)\n",
    "        train_loss += loss.item() \n",
    "\n",
    "        # Optimizer zero grad\n",
    "        optimizer.zero_grad()\n",
    "\n",
    "        # Loss backward Tracking(autograd)\n",
    "        loss.backward()\n",
    "\n",
    "        # Optimizer step(making changes to the weigths)\n",
    "        optimizer.step()\n",
    "\n",
    "        # Calculate and accumulate accuracy metric across all batches\n",
    "        y_pred_class = torch.argmax(torch.softmax(y_pred, dim=1), dim=1)\n",
    "        train_acc += (y_pred_class == y).sum().item()/len(y_pred)\n",
    "\n",
    "    # Adjust metrics to get average loss and accuracy per batch \n",
    "    train_loss = train_loss / len(dataloader)\n",
    "    train_acc = train_acc / len(dataloader)\n",
    "    return train_loss, train_acc"
   ]
  },
  {
   "cell_type": "code",
   "execution_count": 16,
   "id": "736534f7",
   "metadata": {},
   "outputs": [],
   "source": [
    "def test_step(model: torch.nn.Module, \n",
    "              dataloader: torch.utils.data.DataLoader, \n",
    "              loss_fn: torch.nn.Module):\n",
    "    # Put model in eval mode\n",
    "    model.eval() \n",
    "    \n",
    "    # Setup test loss and test accuracy values\n",
    "    test_loss, test_acc = 0, 0\n",
    "    \n",
    "    # Turn on inference context manager this remove grad\n",
    "    with torch.inference_mode():\n",
    "        # Loop through DataLoader batches\n",
    "        for batch, (X, y) in enumerate(dataloader):\n",
    "            # Send data to target device\n",
    "            X, y = X.to(device), y.to(device)\n",
    "    \n",
    "            # Forward pass\n",
    "            test_pred_logits = model(X)\n",
    "\n",
    "            # Calculate and accumulate loss\n",
    "            loss = loss_fn(test_pred_logits, y)\n",
    "            test_loss += loss.item()\n",
    "            \n",
    "            # Calculate and accumulate accuracy\n",
    "            test_pred_labels = test_pred_logits.argmax(dim=1)\n",
    "            test_acc += ((test_pred_labels == y).sum().item()/len(test_pred_labels))\n",
    "            \n",
    "    # Adjust metrics to get average loss and accuracy per batch \n",
    "    test_loss = test_loss / len(dataloader)\n",
    "    test_acc = test_acc / len(dataloader)\n",
    "    return test_loss, test_acc"
   ]
  },
  {
   "cell_type": "code",
   "execution_count": 17,
   "id": "2c3e9744",
   "metadata": {},
   "outputs": [],
   "source": [
    "def train(model: torch.nn.Module, \n",
    "          train_dataloader: torch.utils.data.DataLoader, \n",
    "          test_dataloader: torch.utils.data.DataLoader, \n",
    "          optimizer: torch.optim.Optimizer,\n",
    "          loss_fn: torch.nn.Module = torch.nn.CrossEntropyLoss(),\n",
    "          epochs: int = 20):\n",
    "    \n",
    "    #Create empty results dictionary\n",
    "    results = {\"train_loss\": [],\n",
    "        \"train_acc\": [],\n",
    "        \"test_loss\": [],\n",
    "        \"test_acc\": []\n",
    "    }\n",
    "    \n",
    "    # Loop through training and testing steps for a number of epochs\n",
    "    for epoch in tqdm(range(epochs)):\n",
    "        train_loss, train_acc = train_step(model=model,\n",
    "                                           dataloader=train_loader,\n",
    "                                           loss_fn=loss_fn,\n",
    "                                           optimizer=optimizer)\n",
    "        test_loss, test_acc = test_step(model=model,\n",
    "            dataloader=test_dataloader,\n",
    "            loss_fn=loss_fn)\n",
    "        \n",
    "        # Print Results after each epoch\n",
    "        print(\n",
    "            f\"Epoch: {epoch+1} | \"\n",
    "            f\"train_loss: {train_loss:.4f} | \"\n",
    "            f\"train_acc: {train_acc:.4f} | \"\n",
    "            f\"test_loss: {test_loss:.4f} | \"\n",
    "            f\"test_acc: {test_acc:.4f}\"\n",
    "        )\n",
    "\n",
    "        # Update results dictionary\n",
    "        results[\"train_loss\"].append(train_loss)\n",
    "        results[\"train_acc\"].append(train_acc)\n",
    "        results[\"test_loss\"].append(test_loss)\n",
    "        results[\"test_acc\"].append(test_acc)\n",
    "\n",
    "    # Return the filled results at the end of the epochs\n",
    "    return results"
   ]
  },
  {
   "cell_type": "code",
   "execution_count": 18,
   "id": "56d9809e",
   "metadata": {
    "scrolled": true
   },
   "outputs": [
    {
     "name": "stderr",
     "output_type": "stream",
     "text": [
      "  3%|██▊                                                                                | 1/30 [00:14<06:58, 14.42s/it]"
     ]
    },
    {
     "name": "stdout",
     "output_type": "stream",
     "text": [
      "Epoch: 1 | train_loss: 1.0235 | train_acc: 0.5744 | test_loss: 1.1901 | test_acc: 0.5010\n"
     ]
    },
    {
     "name": "stderr",
     "output_type": "stream",
     "text": [
      "\r",
      "  7%|█████▌                                                                             | 2/30 [00:25<05:40, 12.17s/it]"
     ]
    },
    {
     "name": "stdout",
     "output_type": "stream",
     "text": [
      "Epoch: 2 | train_loss: 0.6018 | train_acc: 0.7946 | test_loss: 0.9482 | test_acc: 0.6010\n"
     ]
    },
    {
     "name": "stderr",
     "output_type": "stream",
     "text": [
      "\r",
      " 10%|████████▎                                                                          | 3/30 [00:35<05:09, 11.45s/it]"
     ]
    },
    {
     "name": "stdout",
     "output_type": "stream",
     "text": [
      "Epoch: 3 | train_loss: 0.4649 | train_acc: 0.8381 | test_loss: 0.7792 | test_acc: 0.7073\n"
     ]
    },
    {
     "name": "stderr",
     "output_type": "stream",
     "text": [
      "\r",
      " 13%|███████████                                                                        | 4/30 [00:46<04:48, 11.10s/it]"
     ]
    },
    {
     "name": "stdout",
     "output_type": "stream",
     "text": [
      "Epoch: 4 | train_loss: 0.3849 | train_acc: 0.8625 | test_loss: 0.6993 | test_acc: 0.7323\n"
     ]
    },
    {
     "name": "stderr",
     "output_type": "stream",
     "text": [
      "\r",
      " 17%|█████████████▊                                                                     | 5/30 [00:56<04:33, 10.94s/it]"
     ]
    },
    {
     "name": "stdout",
     "output_type": "stream",
     "text": [
      "Epoch: 5 | train_loss: 0.3133 | train_acc: 0.8774 | test_loss: 0.5924 | test_acc: 0.7667\n"
     ]
    },
    {
     "name": "stderr",
     "output_type": "stream",
     "text": [
      "\r",
      " 20%|████████████████▌                                                                  | 6/30 [01:07<04:19, 10.82s/it]"
     ]
    },
    {
     "name": "stdout",
     "output_type": "stream",
     "text": [
      "Epoch: 6 | train_loss: 0.2958 | train_acc: 0.8989 | test_loss: 0.5507 | test_acc: 0.7656\n"
     ]
    },
    {
     "name": "stderr",
     "output_type": "stream",
     "text": [
      "\r",
      " 23%|███████████████████▎                                                               | 7/30 [01:18<04:07, 10.76s/it]"
     ]
    },
    {
     "name": "stdout",
     "output_type": "stream",
     "text": [
      "Epoch: 7 | train_loss: 0.2646 | train_acc: 0.9025 | test_loss: 0.4720 | test_acc: 0.8073\n"
     ]
    },
    {
     "name": "stderr",
     "output_type": "stream",
     "text": [
      "\r",
      " 27%|██████████████████████▏                                                            | 8/30 [01:28<03:55, 10.70s/it]"
     ]
    },
    {
     "name": "stdout",
     "output_type": "stream",
     "text": [
      "Epoch: 8 | train_loss: 0.2197 | train_acc: 0.9354 | test_loss: 0.5091 | test_acc: 0.8073\n"
     ]
    },
    {
     "name": "stderr",
     "output_type": "stream",
     "text": [
      "\r",
      " 30%|████████████████████████▉                                                          | 9/30 [01:39<03:43, 10.66s/it]"
     ]
    },
    {
     "name": "stdout",
     "output_type": "stream",
     "text": [
      "Epoch: 9 | train_loss: 0.2829 | train_acc: 0.9084 | test_loss: 0.4672 | test_acc: 0.8250\n"
     ]
    },
    {
     "name": "stderr",
     "output_type": "stream",
     "text": [
      "\r",
      " 33%|███████████████████████████▎                                                      | 10/30 [01:49<03:33, 10.69s/it]"
     ]
    },
    {
     "name": "stdout",
     "output_type": "stream",
     "text": [
      "Epoch: 10 | train_loss: 0.2149 | train_acc: 0.9295 | test_loss: 0.4760 | test_acc: 0.8198\n"
     ]
    },
    {
     "name": "stderr",
     "output_type": "stream",
     "text": [
      "\r",
      " 37%|██████████████████████████████                                                    | 11/30 [02:00<03:23, 10.73s/it]"
     ]
    },
    {
     "name": "stdout",
     "output_type": "stream",
     "text": [
      "Epoch: 11 | train_loss: 0.2270 | train_acc: 0.9253 | test_loss: 0.4572 | test_acc: 0.8438\n"
     ]
    },
    {
     "name": "stderr",
     "output_type": "stream",
     "text": [
      "\r",
      " 40%|████████████████████████████████▊                                                 | 12/30 [02:11<03:13, 10.74s/it]"
     ]
    },
    {
     "name": "stdout",
     "output_type": "stream",
     "text": [
      "Epoch: 12 | train_loss: 0.2337 | train_acc: 0.9194 | test_loss: 0.4406 | test_acc: 0.8354\n"
     ]
    },
    {
     "name": "stderr",
     "output_type": "stream",
     "text": [
      "\r",
      " 43%|███████████████████████████████████▌                                              | 13/30 [02:22<03:01, 10.70s/it]"
     ]
    },
    {
     "name": "stdout",
     "output_type": "stream",
     "text": [
      "Epoch: 13 | train_loss: 0.1919 | train_acc: 0.9238 | test_loss: 0.4765 | test_acc: 0.8375\n"
     ]
    },
    {
     "name": "stderr",
     "output_type": "stream",
     "text": [
      "\r",
      " 47%|██████████████████████████████████████▎                                           | 14/30 [02:32<02:50, 10.67s/it]"
     ]
    },
    {
     "name": "stdout",
     "output_type": "stream",
     "text": [
      "Epoch: 14 | train_loss: 0.1559 | train_acc: 0.9451 | test_loss: 0.4538 | test_acc: 0.8125\n"
     ]
    },
    {
     "name": "stderr",
     "output_type": "stream",
     "text": [
      "\r",
      " 50%|█████████████████████████████████████████                                         | 15/30 [02:43<02:39, 10.65s/it]"
     ]
    },
    {
     "name": "stdout",
     "output_type": "stream",
     "text": [
      "Epoch: 15 | train_loss: 0.1704 | train_acc: 0.9315 | test_loss: 0.4236 | test_acc: 0.8562\n"
     ]
    },
    {
     "name": "stderr",
     "output_type": "stream",
     "text": [
      "\r",
      " 53%|███████████████████████████████████████████▋                                      | 16/30 [02:53<02:28, 10.63s/it]"
     ]
    },
    {
     "name": "stdout",
     "output_type": "stream",
     "text": [
      "Epoch: 16 | train_loss: 0.1570 | train_acc: 0.9359 | test_loss: 0.4239 | test_acc: 0.8375\n"
     ]
    },
    {
     "name": "stderr",
     "output_type": "stream",
     "text": [
      "\r",
      " 57%|██████████████████████████████████████████████▍                                   | 17/30 [03:04<02:17, 10.60s/it]"
     ]
    },
    {
     "name": "stdout",
     "output_type": "stream",
     "text": [
      "Epoch: 17 | train_loss: 0.1711 | train_acc: 0.9464 | test_loss: 0.4138 | test_acc: 0.8625\n"
     ]
    },
    {
     "name": "stderr",
     "output_type": "stream",
     "text": [
      "\r",
      " 60%|█████████████████████████████████████████████████▏                                | 18/30 [03:15<02:07, 10.62s/it]"
     ]
    },
    {
     "name": "stdout",
     "output_type": "stream",
     "text": [
      "Epoch: 18 | train_loss: 0.1755 | train_acc: 0.9369 | test_loss: 0.4606 | test_acc: 0.8500\n"
     ]
    },
    {
     "name": "stderr",
     "output_type": "stream",
     "text": [
      "\r",
      " 63%|███████████████████████████████████████████████████▉                              | 19/30 [03:25<01:56, 10.61s/it]"
     ]
    },
    {
     "name": "stdout",
     "output_type": "stream",
     "text": [
      "Epoch: 19 | train_loss: 0.1693 | train_acc: 0.9325 | test_loss: 0.5206 | test_acc: 0.8219\n"
     ]
    },
    {
     "name": "stderr",
     "output_type": "stream",
     "text": [
      "\r",
      " 67%|██████████████████████████████████████████████████████▋                           | 20/30 [03:36<01:46, 10.62s/it]"
     ]
    },
    {
     "name": "stdout",
     "output_type": "stream",
     "text": [
      "Epoch: 20 | train_loss: 0.1574 | train_acc: 0.9510 | test_loss: 0.4544 | test_acc: 0.8292\n"
     ]
    },
    {
     "name": "stderr",
     "output_type": "stream",
     "text": [
      "\r",
      " 70%|█████████████████████████████████████████████████████████▍                        | 21/30 [03:47<01:35, 10.62s/it]"
     ]
    },
    {
     "name": "stdout",
     "output_type": "stream",
     "text": [
      "Epoch: 21 | train_loss: 0.1588 | train_acc: 0.9446 | test_loss: 0.4122 | test_acc: 0.8510\n"
     ]
    },
    {
     "name": "stderr",
     "output_type": "stream",
     "text": [
      "\r",
      " 73%|████████████████████████████████████████████████████████████▏                     | 22/30 [03:57<01:25, 10.63s/it]"
     ]
    },
    {
     "name": "stdout",
     "output_type": "stream",
     "text": [
      "Epoch: 22 | train_loss: 0.1227 | train_acc: 0.9677 | test_loss: 0.3971 | test_acc: 0.8719\n"
     ]
    },
    {
     "name": "stderr",
     "output_type": "stream",
     "text": [
      "\r",
      " 77%|██████████████████████████████████████████████████████████████▊                   | 23/30 [04:08<01:15, 10.74s/it]"
     ]
    },
    {
     "name": "stdout",
     "output_type": "stream",
     "text": [
      "Epoch: 23 | train_loss: 0.1433 | train_acc: 0.9528 | test_loss: 0.4428 | test_acc: 0.8510\n"
     ]
    },
    {
     "name": "stderr",
     "output_type": "stream",
     "text": [
      "\r",
      " 80%|█████████████████████████████████████████████████████████████████▌                | 24/30 [04:19<01:05, 10.83s/it]"
     ]
    },
    {
     "name": "stdout",
     "output_type": "stream",
     "text": [
      "Epoch: 24 | train_loss: 0.1669 | train_acc: 0.9451 | test_loss: 0.4394 | test_acc: 0.8469\n"
     ]
    },
    {
     "name": "stderr",
     "output_type": "stream",
     "text": [
      "\r",
      " 83%|████████████████████████████████████████████████████████████████████▎             | 25/30 [04:30<00:53, 10.79s/it]"
     ]
    },
    {
     "name": "stdout",
     "output_type": "stream",
     "text": [
      "Epoch: 25 | train_loss: 0.1332 | train_acc: 0.9572 | test_loss: 0.5122 | test_acc: 0.8250\n"
     ]
    },
    {
     "name": "stderr",
     "output_type": "stream",
     "text": [
      "\r",
      " 87%|███████████████████████████████████████████████████████████████████████           | 26/30 [04:40<00:42, 10.74s/it]"
     ]
    },
    {
     "name": "stdout",
     "output_type": "stream",
     "text": [
      "Epoch: 26 | train_loss: 0.1496 | train_acc: 0.9525 | test_loss: 0.4609 | test_acc: 0.8562\n"
     ]
    },
    {
     "name": "stderr",
     "output_type": "stream",
     "text": [
      "\r",
      " 90%|█████████████████████████████████████████████████████████████████████████▊        | 27/30 [04:51<00:32, 10.69s/it]"
     ]
    },
    {
     "name": "stdout",
     "output_type": "stream",
     "text": [
      "Epoch: 27 | train_loss: 0.1200 | train_acc: 0.9587 | test_loss: 0.4255 | test_acc: 0.8573\n"
     ]
    },
    {
     "name": "stderr",
     "output_type": "stream",
     "text": [
      "\r",
      " 93%|████████████████████████████████████████████████████████████████████████████▌     | 28/30 [05:02<00:21, 10.66s/it]"
     ]
    },
    {
     "name": "stdout",
     "output_type": "stream",
     "text": [
      "Epoch: 28 | train_loss: 0.1149 | train_acc: 0.9679 | test_loss: 0.4592 | test_acc: 0.8260\n"
     ]
    },
    {
     "name": "stderr",
     "output_type": "stream",
     "text": [
      "\r",
      " 97%|███████████████████████████████████████████████████████████████████████████████▎  | 29/30 [05:12<00:10, 10.67s/it]"
     ]
    },
    {
     "name": "stdout",
     "output_type": "stream",
     "text": [
      "Epoch: 29 | train_loss: 0.1336 | train_acc: 0.9615 | test_loss: 0.4620 | test_acc: 0.8094\n"
     ]
    },
    {
     "name": "stderr",
     "output_type": "stream",
     "text": [
      "100%|██████████████████████████████████████████████████████████████████████████████████| 30/30 [05:23<00:00, 10.78s/it]"
     ]
    },
    {
     "name": "stdout",
     "output_type": "stream",
     "text": [
      "Epoch: 30 | train_loss: 0.1532 | train_acc: 0.9400 | test_loss: 0.4127 | test_acc: 0.8812\n",
      "Total training time: 323.540 seconds\n"
     ]
    },
    {
     "name": "stderr",
     "output_type": "stream",
     "text": [
      "\n"
     ]
    }
   ],
   "source": [
    "# Set number of epochs\n",
    "NUM_EPOCHS = 30\n",
    "\n",
    "# Start the timer\n",
    "from timeit import default_timer as timer \n",
    "start_time = timer()\n",
    "\n",
    "# Train model\n",
    "model_results = train(model=effnet3, \n",
    "                        train_dataloader=train_loader,\n",
    "                        test_dataloader=test_loader,\n",
    "                        optimizer=optimizer,\n",
    "                        loss_fn=loss_fn, \n",
    "                        epochs=NUM_EPOCHS)\n",
    "\n",
    "# End the timer and duration of training\n",
    "end_time = timer()\n",
    "print(f\"Total training time: {end_time-start_time:.3f} seconds\")"
   ]
  },
  {
   "cell_type": "code",
   "execution_count": 19,
   "id": "d4981579",
   "metadata": {},
   "outputs": [],
   "source": [
    "def accuracy_of_model(model,loader,loss_fn):\n",
    "    # Put model in eval mode\n",
    "    model.eval()\n",
    "    val_loss = 0\n",
    "    val_acc = 0\n",
    "    \n",
    "    with torch.inference_mode():\n",
    "        for batch,(data,target) in enumerate(loader):\n",
    "            data,target = data.to(device),target.to(device)\n",
    "\n",
    "            # make prediction\n",
    "            pred = model(data)\n",
    "            \n",
    "            # calculate loss\n",
    "            loss = loss_fn(pred,target)\n",
    "            val_loss = loss.item()\n",
    "            \n",
    "            # calculate accuracy\n",
    "            pred_label = torch.argmax(torch.softmax(pred,dim=1),dim=1)\n",
    "            val_acc += ((pred_label == target).sum().item()/len(pred_label))\n",
    "    val_loss = val_loss / len(loader)\n",
    "    val_acc = val_acc / len(loader)\n",
    "    return val_acc,val_loss"
   ]
  },
  {
   "cell_type": "code",
   "execution_count": 39,
   "id": "af9b5659",
   "metadata": {},
   "outputs": [
    {
     "name": "stdout",
     "output_type": "stream",
     "text": [
      "Accuracy of EfficientNetB3 model(validation): 86.11111111111111\n",
      "Loss of EfficientnetB3 model(validation): 5.524448351934552e-05\n"
     ]
    }
   ],
   "source": [
    "accuracy,loss = accuracy_of_model(effnet3,valid_loader,loss_fn)\n",
    "print(f'Accuracy of EfficientNetB3 model(validation): {accuracy*100}')\n",
    "print(f'Loss of EfficientnetB3 model(validation): {loss}')"
   ]
  },
  {
   "cell_type": "code",
   "execution_count": 26,
   "id": "5f8a3acd",
   "metadata": {},
   "outputs": [],
   "source": [
    "classes = train_data.classes"
   ]
  },
  {
   "cell_type": "code",
   "execution_count": 35,
   "id": "232811cb",
   "metadata": {},
   "outputs": [
    {
     "data": {
      "image/png": "[encoded data removed]",
      "text/plain": [
       "<Figure size 1200x700 with 2 Axes>"
      ]
     },
     "metadata": {},
     "output_type": "display_data"
    }
   ],
   "source": [
    "from sklearn.metrics import confusion_matrix\n",
    "import seaborn as sn\n",
    "import pandas as pd\n",
    "\n",
    "y_pred = []\n",
    "y_true = []\n",
    "\n",
    "effnet3.eval()\n",
    "# iterate over test data\n",
    "with torch.inference_mode():\n",
    "    for batch,(inputs, labels) in enumerate(valid_loader):\n",
    "        \n",
    "        inputs, labels = inputs.to(device),labels.to(device)\n",
    "        output = effnet3(inputs) # Feed Network\n",
    "\n",
    "        output = torch.argmax(output, dim=1).cpu().numpy()\n",
    "        y_pred.extend(output) # Save Prediction\n",
    "\n",
    "        labels = labels.data.cpu().numpy()\n",
    "        y_true.extend(labels) # Save Truth\n",
    "\n",
    "# Build confusion matrix\n",
    "cf_matrix = confusion_matrix(y_true, y_pred)\n",
    "df_cm = pd.DataFrame(cf_matrix / np.sum(cf_matrix, axis=1)[:, None], index = [i for i in classes],\n",
    "                     columns = [i for i in classes])\n",
    "plt.figure(figsize = (12,7))\n",
    "s = sns.heatmap(df_cm, annot=True,cmap=\"Blues\")\n",
    "s.set(xlabel='Predicted Label', ylabel='True Label')\n",
    "plt.savefig('cmatrixEfficientNetB3.png')"
   ]
  },
  {
   "cell_type": "code",
   "execution_count": 34,
   "id": "40116b65",
   "metadata": {},
   "outputs": [],
   "source": [
    "torch.save(effnet3.state_dict(),'./BestModel/EfficientNetB3_cancer.pth')"
   ]
  }
 ],
 "metadata": {
  "kernelspec": {
   "display_name": "cancer",
   "language": "python",
   "name": "cancer"
  },
  "language_info": {
   "codemirror_mode": {
    "name": "ipython",
    "version": 3
   },
   "file_extension": ".py",
   "mimetype": "text/x-python",
   "name": "python",
   "nbconvert_exporter": "python",
   "pygments_lexer": "ipython3",
   "version": "3.8.10"
  }
 },
 "nbformat": 4,
 "nbformat_minor": 5
}
